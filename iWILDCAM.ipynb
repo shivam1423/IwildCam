{
  "nbformat": 4,
  "nbformat_minor": 0,
  "metadata": {
    "colab": {
      "name": "iWILDCAM.ipynb",
      "version": "0.3.2",
      "provenance": [],
      "collapsed_sections": []
    },
    "kernelspec": {
      "name": "python3",
      "display_name": "Python 3"
    },
    "accelerator": "GPU"
  },
  "cells": [
    {
      "cell_type": "code",
      "metadata": {
        "id": "F-QiTtYBcXMR",
        "colab_type": "code",
        "outputId": "ed3e52d3-84e1-4853-8091-d2e6bcddd6bf",
        "colab": {
          "base_uri": "https://localhost:8080/",
          "height": 50
        }
      },
      "source": [
        "import os\n",
        "import numpy as np # linear algebra\n",
        "import pandas as pd # data processing, CSV file I/O (e.g. pd.read_csv)\n",
        "!pip install opencv-contrib-python\n",
        "import cv2\n",
        "import matplotlib.pyplot as plt\n",
        "%matplotlib inline\n"
      ],
      "execution_count": 0,
      "outputs": [
        {
          "output_type": "stream",
          "text": [
            "Requirement already satisfied: opencv-contrib-python in /usr/local/lib/python3.6/dist-packages (3.4.3.18)\n",
            "Requirement already satisfied: numpy>=1.11.3 in /usr/local/lib/python3.6/dist-packages (from opencv-contrib-python) (1.16.3)\n"
          ],
          "name": "stdout"
        }
      ]
    },
    {
      "cell_type": "code",
      "metadata": {
        "id": "74qqB_x2TaF_",
        "colab_type": "code",
        "outputId": "2b4a248e-b179-4f0c-87f9-cf690216eaff",
        "colab": {
          "base_uri": "https://localhost:8080/",
          "height": 34
        }
      },
      "source": [
        "!ls\n",
        "#!mkdir ter"
      ],
      "execution_count": 0,
      "outputs": [
        {
          "output_type": "stream",
          "text": [
            "sample_data\n"
          ],
          "name": "stdout"
        }
      ]
    },
    {
      "cell_type": "code",
      "metadata": {
        "id": "JugIeBX7VCEh",
        "colab_type": "code",
        "outputId": "6b3c139a-a41a-45ed-8715-c433bed675fe",
        "colab": {
          "base_uri": "https://localhost:8080/",
          "height": 34
        }
      },
      "source": [
        "import shutil\n",
        "#%cd train_images\n",
        "#!mov test_images.zip,sample_data\n",
        "shutil.move(\"train_images.zip\", \"/content/ter\")\n",
        "#!rm -r train_images\n",
        "#!ls | wc -l"
      ],
      "execution_count": 0,
      "outputs": [
        {
          "output_type": "execute_result",
          "data": {
            "text/plain": [
              "'/content/ter/train_images.zip'"
            ]
          },
          "metadata": {
            "tags": []
          },
          "execution_count": 24
        }
      ]
    },
    {
      "cell_type": "code",
      "metadata": {
        "id": "lMIXesFNctFi",
        "colab_type": "code",
        "colab": {}
      },
      "source": [
        "!wget --header=\"Host: storage.googleapis.com\" --header=\"User-Agent: Mozilla/5.0 (Windows NT 10.0; WOW64) AppleWebKit/537.36 (KHTML, like Gecko) Chrome/73.0.3683.103 Safari/537.36\" --header=\"Accept: text/html,application/xhtml+xml,application/xml;q=0.9,image/webp,image/apng,*/*;q=0.8,application/signed-exchange;v=b3\" --header=\"Accept-Language: en-US,en;q=0.9\" --header=\"Referer: https://www.kaggle.com/\" \"https://storage.googleapis.com/kaggle-competitions-data/kaggle/12961/360539/train_images.zip?GoogleAccessId=web-data@kaggle-161607.iam.gserviceaccount.com&Expires=1556214473&Signature=nXKBG6ji4Q44YrGhn%2FDUb598EQsoe9KvX%2BiEki%2B0tC8L%2FoPXXIN8uLhvGU19jb7wQyWFRDI1FEA5G40i%2BpdjQQl7rVdFlbrb%2FiTkD%2BMp7eXhwvmX0NhauKn2oFfBWJjWvwG7Iiz9QxUVzbM%2FEwAB%2FOGAt%2F8HyAJG3DdGJtV4ZuTp1uX1R6jwwZketzrdB2jRo4v7kWSUnTahRtJy3wEn1CpsXKfMg3EMexYgHc7qCJlCiOA6w%2Fodu%2BvTAShk%2FZG7uJL07KYzYBqsJbkovnxl002OMoLdRT%2Ff2%2Fs6Yk0aQGzwJ5uwBwuIxS6%2BbTjmnN%2Fvk8na2BQF2QjEkaI0vnaIYA%3D%3D\" -O \"train_images.zip\" -c"
      ],
      "execution_count": 0,
      "outputs": []
    },
    {
      "cell_type": "code",
      "metadata": {
        "id": "-cB7CysVKCkm",
        "colab_type": "code",
        "outputId": "7c5e6ce0-7db0-40d0-be0f-1ce4e52a446b",
        "colab": {
          "base_uri": "https://localhost:8080/",
          "height": 34
        }
      },
      "source": [
        "pwd"
      ],
      "execution_count": 0,
      "outputs": [
        {
          "output_type": "execute_result",
          "data": {
            "text/plain": [
              "'/content/ter'"
            ]
          },
          "metadata": {
            "tags": []
          },
          "execution_count": 34
        }
      ]
    },
    {
      "cell_type": "code",
      "metadata": {
        "id": "oC4ptLt0c9da",
        "colab_type": "code",
        "colab": {}
      },
      "source": [
        "!unzip -q train_images.zip"
      ],
      "execution_count": 0,
      "outputs": []
    },
    {
      "cell_type": "code",
      "metadata": {
        "id": "Q40SOq_0o7gr",
        "colab_type": "code",
        "outputId": "c7a9bd24-37c2-4a4f-8e21-4055c30d7d75",
        "colab": {
          "base_uri": "https://localhost:8080/",
          "height": 50
        }
      },
      "source": [
        "%cd ter"
      ],
      "execution_count": 0,
      "outputs": [
        {
          "output_type": "stream",
          "text": [
            "[Errno 2] No such file or directory: 'ter'\n",
            "/content/ter\n"
          ],
          "name": "stdout"
        }
      ]
    },
    {
      "cell_type": "code",
      "metadata": {
        "id": "5qzpDbWJdFRU",
        "colab_type": "code",
        "outputId": "08f12a61-dcc8-477f-9df2-916f521d9227",
        "colab": {
          "base_uri": "https://localhost:8080/",
          "height": 50
        }
      },
      "source": [
        "#shutil.move(\"test_images.zip\", \"/content\")\n",
        "import shutil\n",
        "shutil.move(\"name.csv\", \"/content\")\n",
        "%cd //\n",
        "%cd content\n",
        "#!ls\n",
        "#\n",
        "#kf=pd.read_csv(r'train_lable.csv')"
      ],
      "execution_count": 0,
      "outputs": [
        {
          "output_type": "stream",
          "text": [
            "/\n",
            "/content\n"
          ],
          "name": "stdout"
        }
      ]
    },
    {
      "cell_type": "code",
      "metadata": {
        "id": "TdjlF-dkM0bf",
        "colab_type": "code",
        "outputId": "f4c647bd-9995-4781-c750-18a143361007",
        "colab": {
          "base_uri": "https://localhost:8080/",
          "height": 50
        }
      },
      "source": [
        "!unzip test.csv.zip"
      ],
      "execution_count": 0,
      "outputs": [
        {
          "output_type": "stream",
          "text": [
            "Archive:  test.csv.zip\n",
            "  inflating: test.csv                \n"
          ],
          "name": "stdout"
        }
      ]
    },
    {
      "cell_type": "code",
      "metadata": {
        "id": "w_C8VSp6e65y",
        "colab_type": "code",
        "outputId": "1afe4394-46cc-4690-b0bc-8eeaa8188819",
        "colab": {
          "base_uri": "https://localhost:8080/",
          "height": 106
        }
      },
      "source": [
        "df=pd.read_csv(r'train_lable.csv')\n",
        "df.head(2)"
      ],
      "execution_count": 0,
      "outputs": [
        {
          "output_type": "execute_result",
          "data": {
            "text/html": [
              "<div>\n",
              "<style scoped>\n",
              "    .dataframe tbody tr th:only-of-type {\n",
              "        vertical-align: middle;\n",
              "    }\n",
              "\n",
              "    .dataframe tbody tr th {\n",
              "        vertical-align: top;\n",
              "    }\n",
              "\n",
              "    .dataframe thead th {\n",
              "        text-align: right;\n",
              "    }\n",
              "</style>\n",
              "<table border=\"1\" class=\"dataframe\">\n",
              "  <thead>\n",
              "    <tr style=\"text-align: right;\">\n",
              "      <th></th>\n",
              "      <th>Unnamed: 0</th>\n",
              "      <th>category_id</th>\n",
              "    </tr>\n",
              "  </thead>\n",
              "  <tbody>\n",
              "    <tr>\n",
              "      <th>0</th>\n",
              "      <td>0</td>\n",
              "      <td>0</td>\n",
              "    </tr>\n",
              "    <tr>\n",
              "      <th>1</th>\n",
              "      <td>1</td>\n",
              "      <td>0</td>\n",
              "    </tr>\n",
              "  </tbody>\n",
              "</table>\n",
              "</div>"
            ],
            "text/plain": [
              "   Unnamed: 0  category_id\n",
              "0           0            0\n",
              "1           1            0"
            ]
          },
          "metadata": {
            "tags": []
          },
          "execution_count": 22
        }
      ]
    },
    {
      "cell_type": "code",
      "metadata": {
        "id": "Q6iN4R5Gapqx",
        "colab_type": "code",
        "outputId": "b82c9b4a-8a1d-4a0c-e022-138c40a8381d",
        "colab": {
          "base_uri": "https://localhost:8080/",
          "height": 77
        }
      },
      "source": [
        "df.tail(1)"
      ],
      "execution_count": 0,
      "outputs": [
        {
          "output_type": "execute_result",
          "data": {
            "text/html": [
              "<div>\n",
              "<style scoped>\n",
              "    .dataframe tbody tr th:only-of-type {\n",
              "        vertical-align: middle;\n",
              "    }\n",
              "\n",
              "    .dataframe tbody tr th {\n",
              "        vertical-align: top;\n",
              "    }\n",
              "\n",
              "    .dataframe thead th {\n",
              "        text-align: right;\n",
              "    }\n",
              "</style>\n",
              "<table border=\"1\" class=\"dataframe\">\n",
              "  <thead>\n",
              "    <tr style=\"text-align: right;\">\n",
              "      <th></th>\n",
              "      <th>Unnamed: 0</th>\n",
              "      <th>category_id</th>\n",
              "    </tr>\n",
              "  </thead>\n",
              "  <tbody>\n",
              "    <tr>\n",
              "      <th>196085</th>\n",
              "      <td>196085</td>\n",
              "      <td>8</td>\n",
              "    </tr>\n",
              "  </tbody>\n",
              "</table>\n",
              "</div>"
            ],
            "text/plain": [
              "        Unnamed: 0  category_id\n",
              "196085      196085            8"
            ]
          },
          "metadata": {
            "tags": []
          },
          "execution_count": 23
        }
      ]
    },
    {
      "cell_type": "code",
      "metadata": {
        "id": "OaPkN838ONfk",
        "colab_type": "code",
        "colab": {}
      },
      "source": [
        "train_labels=df['category_id']"
      ],
      "execution_count": 0,
      "outputs": []
    },
    {
      "cell_type": "code",
      "metadata": {
        "id": "BUaUsKgT_yeA",
        "colab_type": "code",
        "colab": {}
      },
      "source": [
        "from sklearn.utils import shuffle\n",
        "\n",
        "X_train,train_labels = shuffle(X_train, train_labels, random_state=0)"
      ],
      "execution_count": 0,
      "outputs": []
    },
    {
      "cell_type": "code",
      "metadata": {
        "id": "YcSqeMqNAIyq",
        "colab_type": "code",
        "colab": {}
      },
      "source": [
        "dic={0:0,1:1,3:2,4:3,8:4,10:5,11:6,13:7,14:8,16:9,17:10,18:11,19:12,22:13}\n",
        "train_labels_ = [dic.get(n, n) for n in train_labels]"
      ],
      "execution_count": 0,
      "outputs": []
    },
    {
      "cell_type": "code",
      "metadata": {
        "id": "eUIR9sCOAUGX",
        "colab_type": "code",
        "outputId": "c7525e3e-8bbc-4983-974d-542ab11ecebd",
        "colab": {
          "base_uri": "https://localhost:8080/",
          "height": 34
        }
      },
      "source": [
        "from keras.utils import np_utils\n",
        "train_labels = np_utils.to_categorical(train_labels_, 14)"
      ],
      "execution_count": 0,
      "outputs": [
        {
          "output_type": "stream",
          "text": [
            "Using TensorFlow backend.\n"
          ],
          "name": "stderr"
        }
      ]
    },
    {
      "cell_type": "code",
      "metadata": {
        "id": "m6ZymG3eOXLu",
        "colab_type": "code",
        "colab": {}
      },
      "source": [
        "from keras.utils import np_utils\n",
        "train_labels= np_utils.to_categorical(train_labels,14)"
      ],
      "execution_count": 0,
      "outputs": []
    },
    {
      "cell_type": "code",
      "metadata": {
        "id": "1Td4--K2Ou6s",
        "colab_type": "code",
        "outputId": "e3a0d47c-ca30-417a-e5ab-de0b63b0ceac",
        "colab": {
          "base_uri": "https://localhost:8080/",
          "height": 34
        }
      },
      "source": [
        "train_labels.shape"
      ],
      "execution_count": 0,
      "outputs": [
        {
          "output_type": "execute_result",
          "data": {
            "text/plain": [
              "(196086, 14)"
            ]
          },
          "metadata": {
            "tags": []
          },
          "execution_count": 28
        }
      ]
    },
    {
      "cell_type": "code",
      "metadata": {
        "id": "LwE7630goYlm",
        "colab_type": "code",
        "colab": {}
      },
      "source": [
        "train =list(df[\"file_name\"])\n",
        "train_lable=list(df[\"category_id\"])\n",
        "new_train_label=[]\n",
        "PATH = os.getcwd()\n",
        "train_path = PATH+'/ter/'\n",
        "train_batch = os.listdir(train_path)\n",
        "for image_id in range (0,196086):\n",
        "  for i in range (0,196299):\n",
        "    if train_batch[image_id]==train[i]:\n",
        "      y=train_lable[i]\n",
        "      new_train_label.append(y)\n",
        "kf = pd.DataFrame({'category_id':new_train_label})"
      ],
      "execution_count": 0,
      "outputs": []
    },
    {
      "cell_type": "code",
      "metadata": {
        "id": "py7DhJiscmrI",
        "colab_type": "code",
        "colab": {}
      },
      "source": [
        "from tensorflow import keras\n",
        "import matplotlib.pyplot as plt\n",
        "import sklearn\n",
        "from sklearn.model_selection import train_test_split\n",
        "from keras import models\n",
        "from keras import layers\n",
        "from keras.layers import Dense, Dropout, Flatten, Conv2D, MaxPool2D"
      ],
      "execution_count": 0,
      "outputs": []
    },
    {
      "cell_type": "code",
      "metadata": {
        "id": "Ui7uqFrQEkEO",
        "colab_type": "code",
        "colab": {}
      },
      "source": [
        "kf.to_csv('/content')"
      ],
      "execution_count": 0,
      "outputs": []
    },
    {
      "cell_type": "code",
      "metadata": {
        "id": "09KxxfFxc4sg",
        "colab_type": "code",
        "colab": {}
      },
      "source": [
        "Y_train = df[\"category_id\"]\n",
        "# Drop 'label' column\n",
        "X_train = kf[\"id\"]\n",
        "#X_train = X_train / 255.0\n",
        "#test = test / 255.0\n",
        "#X_train = X_train.values.reshape(-1,28,28,1)\n",
        "#test = test.values.reshape(-1,28,28,1)"
      ],
      "execution_count": 0,
      "outputs": []
    },
    {
      "cell_type": "code",
      "metadata": {
        "id": "tLq6xJgCY_QQ",
        "colab_type": "code",
        "colab": {}
      },
      "source": [
        "for i in range (0,9):\n",
        "  print (i)"
      ],
      "execution_count": 0,
      "outputs": []
    },
    {
      "cell_type": "code",
      "metadata": {
        "id": "DHm9UoU4O6OQ",
        "colab_type": "code",
        "colab": {}
      },
      "source": [
        "X_train=np.load('gdrive/My Drive/Colab Notebooks/wildcam/X_train.npy')\n",
        "X_test=np.load('gdrive/My Drive/Colab Notebooks/wildcam/X_test.npy')"
      ],
      "execution_count": 0,
      "outputs": []
    },
    {
      "cell_type": "code",
      "metadata": {
        "id": "3NL9syF3eO0-",
        "colab_type": "code",
        "outputId": "e2d39942-9b15-435d-a83e-7fcd1dbc2330",
        "colab": {
          "base_uri": "https://localhost:8080/",
          "height": 70
        }
      },
      "source": [
        "from tensorflow.keras.applications import ResNet50\n",
        "from tensorflow.keras.models import Sequential\n",
        "from tensorflow.keras.layers import Dense, Flatten, GlobalAveragePooling2D\n",
        "\n",
        "\n",
        "\n",
        "#resnet_weights_path=my_new_model.load_weights('my_model_weights.h5')\n",
        "\n",
        "#num_classes = 26\n",
        "resnet_weights_path = 'imagenet'\n",
        "\n",
        "my_new_model = Sequential()\n",
        "#my_new_model.add(ResNet152(include_top=False, pooling='avg', weights=resnet_weights_path,input_shape=X_train.shape[1:]))\n",
        "my_new_model.add(ResNet50(include_top=False, pooling='avg', weights=resnet_weights_path,input_shape=X_train.shape[1:]))\n",
        "my_new_model.add(Dense(14, activation='softmax'))\n",
        "\n",
        "# Indicate whether the first layer should be trained/changed or not.\n",
        "my_new_model.layers[0].trainable = False\n",
        "my_new_model.compile(optimizer='adam',loss='categorical_crossentropy',metrics=['accuracy'])"
      ],
      "execution_count": 0,
      "outputs": [
        {
          "output_type": "stream",
          "text": [
            "Downloading data from https://github.com/fchollet/deep-learning-models/releases/download/v0.2/resnet50_weights_tf_dim_ordering_tf_kernels_notop.h5\n",
            "94658560/94653016 [==============================] - 6s 0us/step\n"
          ],
          "name": "stdout"
        }
      ]
    },
    {
      "cell_type": "code",
      "metadata": {
        "id": "6kML5fB-UhA4",
        "colab_type": "code",
        "outputId": "5657c7e6-789d-4fe7-d8d9-af4b19c425fb",
        "colab": {
          "base_uri": "https://localhost:8080/",
          "height": 121
        }
      },
      "source": [
        "from google.colab import drive\n",
        "drive.mount('/content/gdrive')"
      ],
      "execution_count": 0,
      "outputs": [
        {
          "output_type": "stream",
          "text": [
            "Go to this URL in a browser: https://accounts.google.com/o/oauth2/auth?client_id=947318989803-6bn6qk8qdgf4n4g3pfee6491hc0brc4i.apps.googleusercontent.com&redirect_uri=urn%3Aietf%3Awg%3Aoauth%3A2.0%3Aoob&scope=email%20https%3A%2F%2Fwww.googleapis.com%2Fauth%2Fdocs.test%20https%3A%2F%2Fwww.googleapis.com%2Fauth%2Fdrive%20https%3A%2F%2Fwww.googleapis.com%2Fauth%2Fdrive.photos.readonly%20https%3A%2F%2Fwww.googleapis.com%2Fauth%2Fpeopleapi.readonly&response_type=code\n",
            "\n",
            "Enter your authorization code:\n",
            "··········\n",
            "Mounted at /content/gdrive\n"
          ],
          "name": "stdout"
        }
      ]
    },
    {
      "cell_type": "code",
      "metadata": {
        "id": "wzNHErUHI85U",
        "colab_type": "code",
        "outputId": "715e21ab-e9b5-4af0-b88f-8099b35bb94f",
        "colab": {
          "base_uri": "https://localhost:8080/",
          "height": 202
        }
      },
      "source": [
        "my_new_model.summary()"
      ],
      "execution_count": 0,
      "outputs": [
        {
          "output_type": "stream",
          "text": [
            "_________________________________________________________________\n",
            "Layer (type)                 Output Shape              Param #   \n",
            "=================================================================\n",
            "resnet50 (Model)             (None, 2048)              23587712  \n",
            "_________________________________________________________________\n",
            "dense_1 (Dense)              (None, 14)                28686     \n",
            "=================================================================\n",
            "Total params: 23,616,398\n",
            "Trainable params: 28,686\n",
            "Non-trainable params: 23,587,712\n",
            "_________________________________________________________________\n"
          ],
          "name": "stdout"
        }
      ]
    },
    {
      "cell_type": "code",
      "metadata": {
        "id": "YMvrOm6Jgv7N",
        "colab_type": "code",
        "colab": {}
      },
      "source": [
        "my_new_model.save_weights('my_model_weights.h5')"
      ],
      "execution_count": 0,
      "outputs": []
    },
    {
      "cell_type": "code",
      "metadata": {
        "id": "V2KYujLTfJSQ",
        "colab_type": "code",
        "outputId": "ea2f04f7-4f54-4df0-a5e0-50642b16d5f3",
        "colab": {
          "base_uri": "https://localhost:8080/",
          "height": 70
        }
      },
      "source": [
        "import os \n",
        "import numpy as np \n",
        "from keras.preprocessing import image\n",
        "PATH = os.getcwd()\n",
        " \n",
        "train_path = PATH+'/ter/'\n",
        "train_batch = os.listdir(train_path)\n",
        "#x_train = []\n",
        "'''\n",
        "# if data are in form of images\n",
        "for sample in train_batch:\n",
        "\timg_path = train_path+sample\n",
        "\tx = image.load_img(img_path)\n",
        "\t# preprocessing if required\n",
        "\tx_train.append(x)'''\n",
        " "
      ],
      "execution_count": 0,
      "outputs": [
        {
          "output_type": "stream",
          "text": [
            "Using TensorFlow backend.\n"
          ],
          "name": "stderr"
        },
        {
          "output_type": "execute_result",
          "data": {
            "text/plain": [
              "'\\n# if data are in form of images\\nfor sample in train_batch:\\n\\timg_path = train_path+sample\\n\\tx = image.load_img(img_path)\\n\\t# preprocessing if required\\n\\tx_train.append(x)'"
            ]
          },
          "metadata": {
            "tags": []
          },
          "execution_count": 62
        }
      ]
    },
    {
      "cell_type": "code",
      "metadata": {
        "id": "-6MN4Oao4Tl2",
        "colab_type": "code",
        "colab": {}
      },
      "source": [
        "import os\n",
        "import cv2\n",
        "import math\n",
        "\n",
        "import numpy as np # linear algebra\n",
        "from PIL import Image\n",
        "import pandas as pd # data processing, CSV file I/O (e.g. pd.read_csv)\n",
        "import matplotlib.pyplot as plt"
      ],
      "execution_count": 0,
      "outputs": []
    },
    {
      "cell_type": "code",
      "metadata": {
        "id": "26Br4UOtOTtg",
        "colab_type": "code",
        "outputId": "a8e46b1d-1dcc-4b35-c56f-8fd11c6356d5",
        "colab": {
          "base_uri": "https://localhost:8080/",
          "height": 50
        }
      },
      "source": [
        "train_labels[1]"
      ],
      "execution_count": 0,
      "outputs": [
        {
          "output_type": "execute_result",
          "data": {
            "text/plain": [
              "array([0., 0., 0., 0., 0., 0., 0., 0., 0., 0., 0., 1., 0., 0.],\n",
              "      dtype=float32)"
            ]
          },
          "metadata": {
            "tags": []
          },
          "execution_count": 29
        }
      ]
    },
    {
      "cell_type": "code",
      "metadata": {
        "id": "3ZfXGxqxeT5d",
        "colab_type": "code",
        "colab": {}
      },
      "source": [
        "def get_pad_width(im, new_shape, is_rgb=True):\n",
        "    pad_diff = new_shape - im.shape[0], new_shape - im.shape[1]\n",
        "    t, b = math.floor(pad_diff[0]/2), math.ceil(pad_diff[0]/2)\n",
        "    l, r = math.floor(pad_diff[1]/2), math.ceil(pad_diff[1]/2)\n",
        "    if is_rgb:\n",
        "        pad_width = ((t,b), (l,r), (0, 0))\n",
        "    else:\n",
        "        pad_width = ((t,b), (l,r))\n",
        "    return pad_width\n",
        "\n",
        "def pad_and_resize(image_path,pad=False,):\n",
        "    #print (image_path)\n",
        "    img = cv2.imread('ter/'+image_path)\n",
        "    #plt.imshow(img)\n",
        "    #plt.show()\n",
        "    if pad:\n",
        "        pad_width = get_pad_width(img, max(img.shape))\n",
        "        padded = np.pad(img, pad_width=pad_width, mode='constant', constant_values=0)\n",
        "    else:\n",
        "        padded = img\n",
        "    \n",
        "    resized = cv2.resize(padded, (32,)*2).astype('uint8')\n",
        "    \n",
        "    return resized\n",
        "    "
      ],
      "execution_count": 0,
      "outputs": []
    },
    {
      "cell_type": "code",
      "metadata": {
        "id": "ZV833b6s3cfs",
        "colab_type": "code",
        "outputId": "f9fbee7a-52dd-4e0c-d9b5-6c0a533e3bb9",
        "colab": {
          "base_uri": "https://localhost:8080/",
          "height": 34
        }
      },
      "source": [
        "X_train.shape"
      ],
      "execution_count": 0,
      "outputs": [
        {
          "output_type": "execute_result",
          "data": {
            "text/plain": [
              "(196086, 32, 32, 3)"
            ]
          },
          "metadata": {
            "tags": []
          },
          "execution_count": 30
        }
      ]
    },
    {
      "cell_type": "code",
      "metadata": {
        "id": "OdasPnmp6xrt",
        "colab_type": "code",
        "outputId": "9fc8cfd2-04ca-4f37-c0b4-b556c42a5aea",
        "colab": {
          "base_uri": "https://localhost:8080/",
          "height": 195
        }
      },
      "source": [
        "df.tail(5)"
      ],
      "execution_count": 0,
      "outputs": [
        {
          "output_type": "execute_result",
          "data": {
            "text/html": [
              "<div>\n",
              "<style scoped>\n",
              "    .dataframe tbody tr th:only-of-type {\n",
              "        vertical-align: middle;\n",
              "    }\n",
              "\n",
              "    .dataframe tbody tr th {\n",
              "        vertical-align: top;\n",
              "    }\n",
              "\n",
              "    .dataframe thead th {\n",
              "        text-align: right;\n",
              "    }\n",
              "</style>\n",
              "<table border=\"1\" class=\"dataframe\">\n",
              "  <thead>\n",
              "    <tr style=\"text-align: right;\">\n",
              "      <th></th>\n",
              "      <th>category_id</th>\n",
              "    </tr>\n",
              "  </thead>\n",
              "  <tbody>\n",
              "    <tr>\n",
              "      <th>196081</th>\n",
              "      <td>10</td>\n",
              "    </tr>\n",
              "    <tr>\n",
              "      <th>196082</th>\n",
              "      <td>0</td>\n",
              "    </tr>\n",
              "    <tr>\n",
              "      <th>196083</th>\n",
              "      <td>16</td>\n",
              "    </tr>\n",
              "    <tr>\n",
              "      <th>196084</th>\n",
              "      <td>0</td>\n",
              "    </tr>\n",
              "    <tr>\n",
              "      <th>196085</th>\n",
              "      <td>17</td>\n",
              "    </tr>\n",
              "  </tbody>\n",
              "</table>\n",
              "</div>"
            ],
            "text/plain": [
              "        category_id\n",
              "196081           10\n",
              "196082            0\n",
              "196083           16\n",
              "196084            0\n",
              "196085           17"
            ]
          },
          "metadata": {
            "tags": []
          },
          "execution_count": 30
        }
      ]
    },
    {
      "cell_type": "code",
      "metadata": {
        "id": "22qQy2dVfxze",
        "colab_type": "code",
        "colab": {}
      },
      "source": [
        "train_resized_imgs = []\n",
        "#print(train_batch[0])\n",
        "for image_id in train_batch:\n",
        "    train_resized_imgs.append(pad_and_resize(image_id))"
      ],
      "execution_count": 0,
      "outputs": []
    },
    {
      "cell_type": "code",
      "metadata": {
        "id": "NDXR2RGPl8Ae",
        "colab_type": "code",
        "colab": {}
      },
      "source": [
        "X_train = np.stack(train_resized_imgs)"
      ],
      "execution_count": 0,
      "outputs": []
    },
    {
      "cell_type": "code",
      "metadata": {
        "id": "RkmATpF96Wif",
        "colab_type": "code",
        "outputId": "268f2421-6bfc-465a-eaf8-9482cfe7bf8a",
        "colab": {
          "base_uri": "https://localhost:8080/",
          "height": 269
        }
      },
      "source": [
        "temp_img = cv2.imread('ter/', cv2.IMREAD_COLOR)\n",
        "plt.imshow(temp_img)\n",
        "plt.show()"
      ],
      "execution_count": 0,
      "outputs": [
        {
          "output_type": "display_data",
          "data": {
            "image/png": "[encoded data removed]",
            "text/plain": [
              "<Figure size 432x288 with 1 Axes>"
            ]
          },
          "metadata": {
            "tags": []
          }
        }
      ]
    },
    {
      "cell_type": "code",
      "metadata": {
        "id": "2AFlDIp27ckC",
        "colab_type": "code",
        "colab": {}
      },
      "source": [
        "np.save('X_train3.npy', X_train)"
      ],
      "execution_count": 0,
      "outputs": []
    },
    {
      "cell_type": "code",
      "metadata": {
        "id": "AJJc0lOw_Y1l",
        "colab_type": "code",
        "colab": {}
      },
      "source": [
        "X_test=np.load('X_train.npy')"
      ],
      "execution_count": 0,
      "outputs": []
    },
    {
      "cell_type": "code",
      "metadata": {
        "id": "sAbcIvh67AaP",
        "colab_type": "code",
        "colab": {}
      },
      "source": [
        "from keras.utils import to_categorical\n",
        "train_labels=to_categorical(df)"
      ],
      "execution_count": 0,
      "outputs": []
    },
    {
      "cell_type": "code",
      "metadata": {
        "id": "UZcRYjhR3ztc",
        "colab_type": "code",
        "outputId": "7eabdbd0-d4d7-4b5c-dcee-7a8af42a6e04",
        "colab": {
          "base_uri": "https://localhost:8080/",
          "height": 857
        }
      },
      "source": [
        "from keras.callbacks import Callback, ModelCheckpoint\n",
        "checkpoint = ModelCheckpoint(\n",
        "    'model.h5', \n",
        "    monitor='val_acc', \n",
        "    verbose=1, \n",
        "    save_best_only=True, \n",
        "    save_weights_only=False,\n",
        "    mode='auto'\n",
        ")\n",
        "my_new_model.fit(X_train,train_labels,validation_split=0.1,epochs=24,batch_size=32)"
      ],
      "execution_count": 0,
      "outputs": [
        {
          "output_type": "stream",
          "text": [
            "Train on 176477 samples, validate on 19609 samples\n",
            "Epoch 1/24\n",
            "176477/176477 [==============================] - 95s 539us/sample - loss: 1.7581 - acc: 0.6293 - val_loss: 1.8317 - val_acc: 0.6219\n",
            "Epoch 2/24\n",
            "176477/176477 [==============================] - 91s 517us/sample - loss: 1.6990 - acc: 0.6367 - val_loss: 1.8351 - val_acc: 0.5942\n",
            "Epoch 3/24\n",
            "176477/176477 [==============================] - 89s 507us/sample - loss: 1.6922 - acc: 0.6379 - val_loss: 1.8831 - val_acc: 0.6116\n",
            "Epoch 4/24\n",
            "176477/176477 [==============================] - 90s 508us/sample - loss: 1.6905 - acc: 0.6380 - val_loss: 1.8075 - val_acc: 0.6178\n",
            "Epoch 5/24\n",
            "176477/176477 [==============================] - 90s 510us/sample - loss: 1.6872 - acc: 0.6377 - val_loss: 1.8109 - val_acc: 0.6178\n",
            "Epoch 6/24\n",
            "176477/176477 [==============================] - 89s 504us/sample - loss: 1.6901 - acc: 0.6375 - val_loss: 1.7968 - val_acc: 0.6312\n",
            "Epoch 7/24\n",
            "176477/176477 [==============================] - 89s 506us/sample - loss: 1.6873 - acc: 0.6379 - val_loss: 1.8456 - val_acc: 0.5954\n",
            "Epoch 8/24\n",
            "176477/176477 [==============================] - 89s 503us/sample - loss: 1.6873 - acc: 0.6375 - val_loss: 1.8182 - val_acc: 0.6301\n",
            "Epoch 9/24\n",
            "176477/176477 [==============================] - 90s 510us/sample - loss: 1.6876 - acc: 0.6369 - val_loss: 1.8273 - val_acc: 0.6177\n",
            "Epoch 10/24\n",
            "176477/176477 [==============================] - 89s 503us/sample - loss: 1.6894 - acc: 0.6371 - val_loss: 1.8081 - val_acc: 0.6239\n",
            "Epoch 11/24\n",
            "176477/176477 [==============================] - 90s 508us/sample - loss: 1.6864 - acc: 0.6364 - val_loss: 1.8835 - val_acc: 0.6520\n",
            "Epoch 12/24\n",
            "176477/176477 [==============================] - 89s 504us/sample - loss: 1.6883 - acc: 0.6376 - val_loss: 1.8761 - val_acc: 0.6141\n",
            "Epoch 13/24\n",
            "176477/176477 [==============================] - 88s 501us/sample - loss: 1.6894 - acc: 0.6377 - val_loss: 1.8283 - val_acc: 0.6131\n",
            "Epoch 14/24\n",
            "176477/176477 [==============================] - 89s 506us/sample - loss: 1.6893 - acc: 0.6370 - val_loss: 1.9352 - val_acc: 0.5845\n",
            "Epoch 15/24\n",
            "176477/176477 [==============================] - 89s 504us/sample - loss: 1.6868 - acc: 0.6372 - val_loss: 1.8345 - val_acc: 0.6158\n",
            "Epoch 16/24\n",
            "176477/176477 [==============================] - 90s 510us/sample - loss: 1.6890 - acc: 0.6367 - val_loss: 1.8424 - val_acc: 0.6308\n",
            "Epoch 17/24\n",
            "176477/176477 [==============================] - 89s 503us/sample - loss: 1.6866 - acc: 0.6377 - val_loss: 1.8770 - val_acc: 0.6246\n",
            "Epoch 18/24\n",
            "176477/176477 [==============================] - 89s 504us/sample - loss: 1.6865 - acc: 0.6375 - val_loss: 1.8722 - val_acc: 0.5957\n",
            "Epoch 19/24\n",
            "176477/176477 [==============================] - 90s 508us/sample - loss: 1.6863 - acc: 0.6380 - val_loss: 1.9278 - val_acc: 0.6071\n",
            "Epoch 20/24\n",
            "176477/176477 [==============================] - 89s 504us/sample - loss: 1.6860 - acc: 0.6375 - val_loss: 1.8542 - val_acc: 0.6102\n",
            "Epoch 21/24\n",
            "176477/176477 [==============================] - 89s 505us/sample - loss: 1.6888 - acc: 0.6371 - val_loss: 1.8312 - val_acc: 0.6539\n",
            "Epoch 22/24\n",
            "176477/176477 [==============================] - 89s 504us/sample - loss: 1.6877 - acc: 0.6374 - val_loss: 1.8602 - val_acc: 0.6140\n",
            "Epoch 23/24\n",
            "176477/176477 [==============================] - 90s 509us/sample - loss: 1.6857 - acc: 0.6371 - val_loss: 1.8379 - val_acc: 0.5882\n",
            "Epoch 24/24\n",
            "176477/176477 [==============================] - 88s 501us/sample - loss: 1.6881 - acc: 0.6371 - val_loss: 1.9280 - val_acc: 0.5711\n"
          ],
          "name": "stdout"
        },
        {
          "output_type": "execute_result",
          "data": {
            "text/plain": [
              "<tensorflow.python.keras.callbacks.History at 0x7f346c09c5f8>"
            ]
          },
          "metadata": {
            "tags": []
          },
          "execution_count": 84
        }
      ]
    },
    {
      "cell_type": "code",
      "metadata": {
        "id": "Uu_SYqiZ533l",
        "colab_type": "code",
        "outputId": "baafa935-0908-4a12-c4a2-f0834e6493fc",
        "colab": {
          "base_uri": "https://localhost:8080/",
          "height": 34
        }
      },
      "source": [
        "X_test.shape\n",
        "X_train.shape"
      ],
      "execution_count": 0,
      "outputs": [
        {
          "output_type": "execute_result",
          "data": {
            "text/plain": [
              "(196086, 32, 32, 3)"
            ]
          },
          "metadata": {
            "tags": []
          },
          "execution_count": 59
        }
      ]
    },
    {
      "cell_type": "code",
      "metadata": {
        "id": "oCnDwhZ95qdk",
        "colab_type": "code",
        "outputId": "efdd6ed4-d707-42ec-9b31-fe9c3a12f4e3",
        "colab": {
          "base_uri": "https://localhost:8080/",
          "height": 50
        }
      },
      "source": [
        "!unzip test.csv.zip"
      ],
      "execution_count": 0,
      "outputs": [
        {
          "output_type": "stream",
          "text": [
            "Archive:  test.csv.zip\n",
            "  inflating: test.csv                \n"
          ],
          "name": "stdout"
        }
      ]
    },
    {
      "cell_type": "code",
      "metadata": {
        "id": "0mrkuGgqAW6D",
        "colab_type": "code",
        "colab": {}
      },
      "source": [
        "f=pd.read_csv('test.csv')"
      ],
      "execution_count": 0,
      "outputs": []
    },
    {
      "cell_type": "code",
      "metadata": {
        "id": "o55IphOGBl6v",
        "colab_type": "code",
        "colab": {}
      },
      "source": [
        "f=f[\"id\"]"
      ],
      "execution_count": 0,
      "outputs": []
    },
    {
      "cell_type": "code",
      "metadata": {
        "id": "Qw8YRJXbBsBr",
        "colab_type": "code",
        "outputId": "b821229b-5447-477a-9644-cfcf434836ae",
        "colab": {
          "base_uri": "https://localhost:8080/",
          "height": 118
        }
      },
      "source": [
        "f.head()\n",
        "#!pwd"
      ],
      "execution_count": 0,
      "outputs": [
        {
          "output_type": "execute_result",
          "data": {
            "text/plain": [
              "0    bce932f6-2bf6-11e9-bcad-06f10d5896c4\n",
              "1    bce932f7-2bf6-11e9-bcad-06f10d5896c4\n",
              "2    bce932f8-2bf6-11e9-bcad-06f10d5896c4\n",
              "3    bce932f9-2bf6-11e9-bcad-06f10d5896c4\n",
              "4    bce932fa-2bf6-11e9-bcad-06f10d5896c4\n",
              "Name: id, dtype: object"
            ]
          },
          "metadata": {
            "tags": []
          },
          "execution_count": 87
        }
      ]
    },
    {
      "cell_type": "code",
      "metadata": {
        "id": "jyv1b3do7lfe",
        "colab_type": "code",
        "colab": {}
      },
      "source": [
        "results = my_new_model.predict(X_test)\n",
        "\n",
        "# select the indix with the maximum probability\n",
        "results = np.argmax(results,axis = 1)\n",
        "\n"
      ],
      "execution_count": 0,
      "outputs": []
    },
    {
      "cell_type": "code",
      "metadata": {
        "id": "Hrq9Kshi-t5f",
        "colab_type": "code",
        "colab": {}
      },
      "source": [
        "dic={0:0,1:1,2:3,3:4,4:8,5:10,6:11,7:13,8:14,9:16,10:17,11:18,12:19,13:22}\n",
        "results = [dic.get(n, n) for n in results]\n",
        "results = pd.Series(results,name=\"Predicted\")"
      ],
      "execution_count": 0,
      "outputs": []
    },
    {
      "cell_type": "code",
      "metadata": {
        "id": "q_ggjUfVcnby",
        "colab_type": "code",
        "outputId": "c1d05eca-18e5-444b-90a8-fc7f11ae75e9",
        "colab": {
          "base_uri": "https://localhost:8080/",
          "height": 289
        }
      },
      "source": [
        "results.value_counts()[1N:23].plot(kind='bar')"
      ],
      "execution_count": 0,
      "outputs": [
        {
          "output_type": "execute_result",
          "data": {
            "text/plain": [
              "<matplotlib.axes._subplots.AxesSubplot at 0x7f335f263278>"
            ]
          },
          "metadata": {
            "tags": []
          },
          "execution_count": 90
        },
        {
          "output_type": "display_data",
          "data": {
            "image/png": "[encoded data removed]",
            "text/plain": [
              "<Figure size 432x288 with 1 Axes>"
            ]
          },
          "metadata": {
            "tags": []
          }
        }
      ]
    },
    {
      "cell_type": "code",
      "metadata": {
        "id": "feNssbkn9Vbe",
        "colab_type": "code",
        "colab": {}
      },
      "source": [
        "submission = pd.concat([pd.Series(f,name ='Id'),results],axis = 1)\n",
        "\n",
        "submission.to_csv(\"iwildcam12.csv\",index=False)"
      ],
      "execution_count": 0,
      "outputs": []
    },
    {
      "cell_type": "code",
      "metadata": {
        "id": "9u1ov0_DVgGh",
        "colab_type": "code",
        "colab": {}
      },
      "source": [
        "results = my_new_model.predict(X_test)"
      ],
      "execution_count": 0,
      "outputs": []
    },
    {
      "cell_type": "code",
      "metadata": {
        "id": "sVHNIw_9Deup",
        "colab_type": "code",
        "colab": {}
      },
      "source": [
        "kf = pd.DataFrame({'category_id':train_batch})"
      ],
      "execution_count": 0,
      "outputs": []
    },
    {
      "cell_type": "code",
      "metadata": {
        "id": "sxFK0Q0MFTlv",
        "colab_type": "code",
        "outputId": "db2d9498-756a-4a60-ea8d-efbaa1273061",
        "colab": {
          "base_uri": "https://localhost:8080/",
          "height": 50
        }
      },
      "source": [
        "!ls\n",
        "kf.to_csv('/train.csv')"
      ],
      "execution_count": 0,
      "outputs": [
        {
          "output_type": "stream",
          "text": [
            "MyFile.txt   ter       test.csv.zip  train.csv.zip\n",
            "sample_data  test.csv  train.csv     train_images.zip\n"
          ],
          "name": "stdout"
        }
      ]
    },
    {
      "cell_type": "code",
      "metadata": {
        "id": "Q0xOYuqj2-a4",
        "colab_type": "code",
        "colab": {}
      },
      "source": [
        "X_train = X_train.astype('float32')\n",
        "X_test = X_test.astype('float32')\n",
        "X_train /= 255.\n",
        "X_test /= 255."
      ],
      "execution_count": 0,
      "outputs": []
    },
    {
      "cell_type": "code",
      "metadata": {
        "id": "G_9cO5hgJ94m",
        "colab_type": "code",
        "colab": {}
      },
      "source": [
        "import sklearn\n",
        "from sklearn.model_selection import train_test_split\n",
        "#X_train, X_val, Y_train, Y_val = train_test_split(X_train, train_labels, test_size = 0.1, random_state=2)"
      ],
      "execution_count": 0,
      "outputs": []
    },
    {
      "cell_type": "code",
      "metadata": {
        "id": "zt8mE1R1f-j2",
        "colab_type": "code",
        "colab": {}
      },
      "source": [
        "from keras.preprocessing.image import ImageDataGenerator\n",
        "from matplotlib import pyplot\n",
        "from keras import backend as K\n"
      ],
      "execution_count": 0,
      "outputs": []
    },
    {
      "cell_type": "code",
      "metadata": {
        "id": "vw-AP1swhNv_",
        "colab_type": "code",
        "outputId": "d4a6dbf2-218a-4b6a-a2c6-8422b08be477",
        "colab": {
          "base_uri": "https://localhost:8080/",
          "height": 390
        }
      },
      "source": [
        "shift=0.2\n",
        "datagen = ImageDataGenerator(featurewise_center=True, featurewise_std_normalization=True,zca_whitening=True,width_shift_range=shift, height_shift_range=shift)\n",
        "datagen.fit(X_train)\n",
        "my_new_model.fit_generator(datagen.flow(X_train,Y_train,batch_size=256) ,validation_data = (X_val,Y_val), verbose = 2,steps_per_epoch=len(X_train) / 2, epochs=5)"
      ],
      "execution_count": 0,
      "outputs": [
        {
          "output_type": "stream",
          "text": [
            "/usr/local/lib/python3.6/dist-packages/keras_preprocessing/image/image_data_generator.py:339: UserWarning: This ImageDataGenerator specifies `zca_whitening` which overrides setting of`featurewise_std_normalization`.\n",
            "  warnings.warn('This ImageDataGenerator specifies '\n"
          ],
          "name": "stderr"
        },
        {
          "output_type": "stream",
          "text": [
            "WARNING:tensorflow:From /usr/local/lib/python3.6/dist-packages/tensorflow/python/ops/math_ops.py:3066: to_int32 (from tensorflow.python.ops.math_ops) is deprecated and will be removed in a future version.\n",
            "Instructions for updating:\n",
            "Use tf.cast instead.\n",
            "Epoch 1/5\n",
            "39218/39218 [==============================] - 24s 612us/sample - loss: 2.1711 - acc: 0.6729\n",
            " - 1187s - loss: 1.5585 - acc: 0.6561 - val_loss: 2.1719 - val_acc: 0.6729\n",
            "Epoch 2/5\n",
            "39218/39218 [==============================] - 18s 470us/sample - loss: 2.5638 - acc: 0.5791\n",
            " - 1178s - loss: 1.4350 - acc: 0.6696 - val_loss: 2.5643 - val_acc: 0.5791\n",
            "Epoch 3/5\n",
            "39218/39218 [==============================] - 18s 460us/sample - loss: 1.9230 - acc: 0.6192\n",
            " - 1156s - loss: 1.4262 - acc: 0.6696 - val_loss: 1.9238 - val_acc: 0.6192\n",
            "Epoch 4/5\n",
            "39218/39218 [==============================] - 18s 450us/sample - loss: 1.9923 - acc: 0.6729\n",
            " - 1186s - loss: 1.4232 - acc: 0.6696 - val_loss: 1.9919 - val_acc: 0.6729\n",
            "Epoch 5/5\n",
            "39218/39218 [==============================] - 18s 459us/sample - loss: 2.0264 - acc: 0.6007\n",
            " - 1157s - loss: 1.4220 - acc: 0.6696 - val_loss: 2.0251 - val_acc: 0.6007\n"
          ],
          "name": "stdout"
        },
        {
          "output_type": "execute_result",
          "data": {
            "text/plain": [
              "<tensorflow.python.keras.callbacks.History at 0x7f365f446f98>"
            ]
          },
          "metadata": {
            "tags": []
          },
          "execution_count": 33
        }
      ]
    },
    {
      "cell_type": "code",
      "metadata": {
        "id": "ULokXQGnpKJn",
        "colab_type": "code",
        "colab": {}
      },
      "source": [
        "from keras.callbacks import ModelCheckpoint\n",
        "filepath=\"weights.best.hdf5\"\n",
        "checkpoint = ModelCheckpoint(filepath, monitor='val_acc', verbose=1, save_best_only=True, mode='max')\n",
        "callbacks_list = [checkpoint]"
      ],
      "execution_count": 0,
      "outputs": []
    },
    {
      "cell_type": "code",
      "metadata": {
        "id": "C7g2mUF9v5Mh",
        "colab_type": "code",
        "colab": {}
      },
      "source": [
        "for layer in my_new_model.layers:\n",
        "    weights = layer.get_weights() "
      ],
      "execution_count": 0,
      "outputs": []
    },
    {
      "cell_type": "code",
      "metadata": {
        "id": "DQnNSVpo8pOa",
        "colab_type": "code",
        "outputId": "8ea42575-c219-4bc6-cada-b924fbddb44e",
        "colab": {
          "base_uri": "https://localhost:8080/",
          "height": 252
        }
      },
      "source": [
        "print (weights)"
      ],
      "execution_count": 0,
      "outputs": [
        {
          "output_type": "stream",
          "text": [
            "[array([[ 0.04279608, -0.03580486,  0.06214789, ..., -0.05384158,\n",
            "        -0.02461667, -0.07548434],\n",
            "       [ 0.00477461,  0.07198184,  0.02792431, ..., -0.01132514,\n",
            "         0.05768148,  0.03573453],\n",
            "       [-0.06701748, -0.06069611, -0.07493453, ...,  0.00620933,\n",
            "        -0.01287109,  0.00170427],\n",
            "       ...,\n",
            "       [-0.03713472,  0.00339541,  0.00058474, ..., -0.03236131,\n",
            "         0.06155867, -0.05740074],\n",
            "       [-0.01856963,  0.01968791, -0.02190277, ..., -0.05135774,\n",
            "        -0.01253545, -0.05847003],\n",
            "       [ 0.03286391,  0.05114008,  0.06586831, ...,  0.06078506,\n",
            "         0.04045536, -0.01425583]], dtype=float32), array([0., 0., 0., 0., 0., 0., 0., 0., 0., 0., 0., 0., 0., 0.],\n",
            "      dtype=float32)]\n"
          ],
          "name": "stdout"
        }
      ]
    },
    {
      "cell_type": "code",
      "metadata": {
        "id": "2teafsM_eW7v",
        "colab_type": "code",
        "outputId": "fa6cad08-1b9d-49f1-8a14-112854a7c11e",
        "colab": {
          "base_uri": "https://localhost:8080/",
          "height": 34
        }
      },
      "source": [
        "len(weights)"
      ],
      "execution_count": 0,
      "outputs": [
        {
          "output_type": "execute_result",
          "data": {
            "text/plain": [
              "2"
            ]
          },
          "metadata": {
            "tags": []
          },
          "execution_count": 56
        }
      ]
    },
    {
      "cell_type": "code",
      "metadata": {
        "id": "V1gFiOLledh_",
        "colab_type": "code",
        "colab": {}
      },
      "source": [
        "my_new_model.save('my_model.h5')"
      ],
      "execution_count": 0,
      "outputs": []
    },
    {
      "cell_type": "code",
      "metadata": {
        "id": "vTUB0KxTgeI5",
        "colab_type": "code",
        "colab": {}
      },
      "source": [
        ""
      ],
      "execution_count": 0,
      "outputs": []
    }
  ]
}